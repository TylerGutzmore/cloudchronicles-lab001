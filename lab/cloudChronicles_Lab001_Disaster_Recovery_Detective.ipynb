{
  "cells": [
    {
      "cell_type": "markdown",
      "id": "0f1e0979",
      "metadata": {
        "id": "0f1e0979"
      },
      "source": [
        "# 🧠 cloudChronicles Lab #001: Disaster Recovery Detective\n",
        "\n",
        "**Lab Type:** Idea  \n",
        "**Estimated Time:** 30–45 mins  \n",
        "**Skill Level:** Beginner"
      ]
    },
    {
      "cell_type": "code",
      "execution_count": null,
      "id": "a97f86ab",
      "metadata": {
        "id": "a97f86ab"
      },
      "outputs": [],
      "source": [
        "# Let's begin by printing your name to personalize the notebook\n",
        "your_name = \"\"\n",
        "print(f\"Welcome to the lab, {Tyler_Gutzmore}!\")"
      ]
    },
    {
      "cell_type": "markdown",
      "id": "0f94d019",
      "metadata": {
        "id": "0f94d019"
      },
      "source": [
        "## 🔍 STAR Method Lab Prompt\n",
        "\n",
        "**Situation:**  \n",
        "[Define your scenario here.]\n",
        "\n",
        "**Task:**  \n",
        "[Define what the user is expected to solve.]\n",
        "\n",
        "**Action:**  \n",
        "[Step-by-step instructions using GCP tools.]\n",
        "\n",
        "**Expected Result:**  \n",
        "[A defined deliverable such as a DR plan, diagram, MVP, etc.]"
      ]
    },
    {
      "cell_type": "markdown",
      "id": "397b221d",
      "metadata": {
        "id": "397b221d"
      },
      "source": [
        "## ✍️ Your Assignment\n",
        "\n",
        "_Use this section to complete your deliverable:_\n",
        "\n",
        "```markdown\n",
        "(Example Format)\n",
        "\n",
        "- **Primary Region**: us-central1  \n",
        "- **Backup Location**: us-east1  \n",
        "- **Failover Trigger**: Load balancer health check + Pub/Sub alert  \n",
        "- **Redundancy Services**:  \n",
        "   - Cloud SQL with failover  \n",
        "   - Cloud Storage versioning  \n",
        "   - Cloud Functions for health monitoring  \n",
        "- **Backup Schedule**: Every 6 hours, daily export to multi-region bucket  \n",
        "```"
      ]
    },
    {
      "cell_type": "markdown",
      "metadata": {
        "id": "6288a2cc"
      },
      "source": [
        "## Plan:\n",
        "\n",
        "1. **Update `your_name`**: Go to the first code cell and replace the placeholder `\"\"` with your actual name. Run the cell to see the personalized welcome message.\n",
        "\n",
        "2. **Define the Situation**: In the \"Situation\" section under the STAR Method Lab Prompt, write a sentence or two describing a realistic scenario where a regional outage occurs in Google Cloud's `us-central1`. For example, you could mention a natural disaster or a widespread service disruption affecting the region.\n",
        "\n",
        "3. **Define the Task**: In the \"Task\" section, clearly state that the goal is to create a detailed disaster recovery plan for the scenario described in the Situation, specifically focusing on using Google Cloud tools to ensure business continuity and data recovery.\n",
        "\n",
        "4. **Outline the Action**: This is the core of your plan. In the \"Action\" section, detail the steps involved in your disaster recovery strategy. Explain how you would use the following Google Cloud tools in a simple, easy-to-understand way:\n",
        "    *   **Cloud SQL Replicas**: Explain how setting up a replica of your Cloud SQL database in a different region (e.g., `us-east1`) allows for quick failover if the primary region goes down. Think of it like having a backup copy of your game save in another location.\n",
        "    *   **Multi-region Cloud Storage**: Describe how storing critical data and backups in a multi-region Cloud Storage bucket ensures that your data is replicated across multiple regions, making it accessible even if one region is unavailable. This is like keeping copies of your important drawings in different safe places.\n",
        "    *   **Pub/Sub Alerts**: Explain how Pub/Sub can be used to trigger alerts and automated actions when a failure is detected (e.g., a load balancer health check fails). This is like having a special alarm system that tells you when something is wrong so you can fix it quickly.\n",
        "    *   **Load Balancer Health Checks**: Explain how load balancers can automatically detect unhealthy instances in the affected region and redirect traffic to healthy instances in the backup region. This is like having a smart traffic controller that reroutes cars if a road is closed.\n",
        "    *   **Automated Failover**: Describe how these tools work together to automate the failover process to the backup region, minimizing downtime.\n",
        "\n",
        "5. **Describe the Expected Result**: In the \"Expected Result\" section, specify what the final output of your work will be. This should be a detailed disaster recovery plan document or a similar deliverable that clearly outlines the steps and tools used for failover and recovery.\n",
        "\n",
        "6. **Format Your Assignment**: Go to the \"Your Assignment\" section and use the provided example format as a template. Fill in the details of your disaster recovery plan based on the steps you outlined in the \"Action\" section. Make sure to include the primary and backup regions, failover triggers, redundancy services, and backup schedules.\n",
        "\n",
        "7. **Review and Refine**: After completing your assignment, read through your entire disaster recovery plan. Check for clarity, accuracy, and completeness. Make sure the explanations are simple and easy to understand, even for someone new to cloud concepts.\n",
        "\n",
        "8. **Finish task**: The task is complete once you have a well-written and detailed disaster recovery plan in the \"Your Assignment\" section of the notebook, following the STAR method and incorporating the specified Google Cloud tools."
      ],
      "id": "6288a2cc"
    },
    {
      "cell_type": "markdown",
      "metadata": {
        "id": "858498a1"
      },
      "source": [
        "## ✍️ Your Assignment\n",
        "\n",
        "*Use this section to complete your deliverable:*\n",
        "\n",
        "- **Primary Region**: [Define your primary region, e.g., us-central1]\n",
        "- **Backup Location**: [Define your backup region, e.g., us-east1]\n",
        "- **Failover Trigger**: [Explain how failover is triggered, e.g., Load balancer health check + Pub/Sub alert]\n",
        "- **Redundancy Services**:\n",
        "  - [List and explain the redundancy services used, e.g., Cloud SQL with failover]\n",
        "  - [Continue listing other services, e.g., Cloud Storage versioning]\n",
        "  - [Continue listing other services, e.g., Cloud Functions for health monitoring]\n",
        "- **Backup Schedule**: [Define your backup schedule, e.g., Every 6 hours, daily export to multi-region bucket]"
      ],
      "id": "858498a1"
    }
  ],
  "metadata": {
    "colab": {
      "provenance": [],
      "toc_visible": true
    },
    "language_info": {
      "name": "python"
    },
    "kernelspec": {
      "name": "python3",
      "display_name": "Python 3"
    }
  },
  "nbformat": 4,
  "nbformat_minor": 5
}
